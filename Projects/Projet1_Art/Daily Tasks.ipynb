{
 "cells": [
  {
   "cell_type": "markdown",
   "metadata": {
    "id": "day1"
   },
   "source": [
    "## Day 1: Define User Persona and App Vision\n",
    "\n",
    "**Task**: Create a detailed user persona (name, age, art preferences, needs) and brainstorm the app’s vision (e.g., “Inspire creativity”). Test recommendations with images to check persona fit, and analyze potential biases across diverse personas.\n",
    "\n",
    "**Instructions**:\n",
    "1. Discuss: Who is your user? (e.g., “Luna, 28, loves abstract art for inspiration”).\n",
    "2. Write persona and vision in a Google Slides template (provided).\n",
    "3. Test 2 style/mood combinations in the recommendation section for this persona, noting images.\n",
    "4. Create a second persona with different cultural or stylistic preferences (e.g., someone who prefers non-Western art or modern abstract art). Test the same 2 style/mood combinations for this second persona.\n",
    "5. Analyze the recommendations for both personas: Are certain types of art (e.g., Western, classical) over-recommended? What might cause these differences (e.g., dataset bias)?\n",
    "6. Save outputs (text, images) to Slides, including your bias analysis.\n",
    "\n",
    "**Challenge**: Balancing niche (e.g., abstract art) vs. broad preferences to ensure enough matches.\n",
    "\n",
    "**Discussion Questions**:\n",
    "- Are your persona’s preferences too specific, risking few matches?\n",
    "- How do images influence the persona’s emotional response?\n",
    "- How did the recommendations differ between the two personas? Were certain types of art (e.g., Western, classical) over-recommended?\n",
    "- What might cause these differences (e.g., dataset bias, limited style/mood options)? How could the system be improved to ensure fairness across diverse preferences?\n",
    "\n",
    "**Competition**: present a 3-5 min pitch of your persona’s backstory, including your bias analysis, and ansering all the discussion questions. Submit your slide as pdf via Teams (10 points, instructor/AI-judged)."
   ]
  },
  {
   "cell_type": "code",
   "execution_count": null,
   "metadata": {},
   "outputs": [],
   "source": []
  },
  {
   "cell_type": "markdown",
   "metadata": {
    "id": "day2"
   },
   "source": [
    "## Day 2: Design Recommendation Logic\n",
    "\n",
    "**Task**: Define how ArtVibe selects artworks (e.g., prioritize style over mood). Compare recommendations with images for 3 inputs to justify your logic, and evaluate the diversity of recommendations.\n",
    "\n",
    "**Instructions**:\n",
    "1. Discuss: Should style or mood weigh more? (e.g., “Style 70%, mood 30%”). Use the sliders in the recommendation section to adjust weights.\n",
    "2. Write your recommendation logic in a Slides template.\n",
    "3. Test 3 style/mood combinations in the recommendation section.\n",
    "4. Analyze the diversity of the recommended artworks (e.g., count how many are from Western vs. non-Western cultures, or classical vs. modern styles).\n",
    "5. Adjust the style/mood weights (e.g., 90%/10% vs. 50%/50%) and re-test one combination. How do the weights impact diversity?\n",
    "6. Save outputs (text, images) and explain why your logic supports your persona’s needs, including your diversity analysis.\n",
    "\n",
    "**Challenge**: Handling sparse data (e.g., few “Watercolor” artworks).\n",
    "\n",
    "**Discussion Questions**:\n",
    "- What fallback styles work if your preferred style is missing?\n",
    "- How do images enhance your logic’s effectiveness?\n",
    "- How did the style/mood weights affect the diversity of recommendations? Did higher style weights lead to more homogeneous recommendations?\n",
    "- What are the implications of prioritizing style over mood (or vice versa) for users with niche preferences? Could this lead to exclusion of certain artworks or cultures?\n",
    "\n",
    "**Competition**: present a 3-5 min pitch about your unique recommendation rule, including your diversity analysis submit your slides via Teams (10 points, instructor/AI-judged)."
   ]
  },
  {
   "cell_type": "markdown",
   "metadata": {
    "id": "day3"
   },
   "source": [
    "## Day 3: Create UI Mockup and Test Recommendations\n",
    "\n",
    "**Task**: Design a web app mockup in Canva/power point/ google slides, specifying how recommendations and images are displayed (e.g., grid with filters). Generate recommendations with images for the mockup, and design UI elements to promote transparency and diversity.\n",
    "\n",
    "**Instructions**:\n",
    "1. Discuss: What UI elements make ArtVibe intuitive? (e.g., image thumbnails, filters).\n",
    "2. Create a mockup using a Canva template (provided). Include a feature to display the diversity of recommendations (e.g., a breakdown of cultures/styles) and a transparency element (e.g., showing the style/mood weights used).\n",
    "3. Generate 2 sets of recommendations with images for your persona.\n",
    "4. Discuss how these UI elements (diversity breakdown, transparency) might influence user perception and trust.\n",
    "5. Save mockup and outputs (text, images) to Slides, including your discussion on UI impact.\n",
    "\n",
    "**Challenge**: Making the UI engaging for non-art experts while showcasing metadata and images.\n",
    "\n",
    "**Discussion Questions**:\n",
    "- Should you use filters or sliders for style/mood?\n",
    "- How do images enhance the UI’s appeal?\n",
    "- How might showing the diversity of recommendations (e.g., cultural breakdown) affect the user’s trust in the system?\n",
    "- Does displaying the style/mood weights make the system more transparent? How might transparency influence user behavior (e.g., adjusting weights to explore more diverse art)?\n",
    "\n",
    "**Competition**: present your mockup (3 -5 mins)  and submit the slides for peer vote via Teams, including your discussion on UI impact (10 points, instructor/AI-judged)."
   ]
  },
  {
   "cell_type": "markdown",
   "metadata": {
    "id": "day4"
   },
   "source": [
    "## Day 4: Generate and Refine Explanations\n",
    "\n",
    "**Task**: Generate 3 AI explanations, refining prompts to match your persona’s tone (e.g., poetic). Evaluate the explanations’ role in addressing bias and building trust.\n",
    "\n",
    "**Instructions**:\n",
    "1. Discuss: What tone suits your persona? (e.g., poetic, professional).\n",
    "2. Write 3 prompts in the explanation section, testing different tones.\n",
    "3. Generate explanations, select the best 3, and save to Slides.\n",
    "4. Evaluate how each explanation addresses potential biases (e.g., does it justify why a Western painting was recommended over a non-Western one?) and builds user trust (e.g., does it clarify the recommendation logic?).\n",
    "5. Refine one explanation to explicitly address a bias identified in earlier tasks (e.g., over-recommendation of European art).\n",
    "6. Justify prompt choices in Slides, including your evaluation of bias and trust.\n",
    "\n",
    "**Challenge**: Ensuring explanations are relevant and engaging.\n",
    "\n",
    "**Discussion Questions**:\n",
    "- Which prompt produced the most engaging explanation?\n",
    "- How do explanations build user trust?\n",
    "- How do the explanations help mitigate or highlight biases in the recommendations (e.g., cultural bias)?\n",
    "- What makes an explanation trustworthy from a user’s perspective? How can explanations be used to encourage exploration of diverse artworks?\n",
    "\n",
    "**Competition**: present your Explanation logic (3=5 mins) show explanation examples and submit your slides for peer vote via Teams, including your evaluation of bias and trust (10 points, instructor/AI-judged)."
   ]
  },
  {
   "cell_type": "markdown",
   "metadata": {
    "id": "day5"
   },
   "source": [
    "## Day 5: Evaluate and Present\n",
    "\n",
    "**Task**: Rate 3 recommendations for persona fit, evaluate the system’s broader implications, and prepare a 5-7 min presentation (persona, mockup, recommendations with images, explanations, and future improvements).\n",
    "\n",
    "**Instructions**:\n",
    "1. Discuss: What makes a recommendation relevant? (e.g., style, mood, image appeal).\n",
    "2. Rate 3 artworks in the evaluation section, justifying ratings in Slides.\n",
    "3. Evaluate the system’s overall performance in terms of fairness, diversity, and ethical implications (e.g., cultural bias, over-recommendation of popular art).\n",
    "4. Propose one improvement to address a specific issue (e.g., diversifying the dataset, adjusting weights to reduce bias, improving explanations to highlight underrepresented art). Include this in your presentation as a “Future Improvements” slide.\n",
    "5. Finalize presentation using a Slides template, including persona, mockup, recommendations, explanations, and future improvements.\n",
    "6. Practice your pitch, highlighting unique features and your proposed improvement.\n",
    "\n",
    "**Challenge**: Balancing subjective (e.g., image appeal) and objective (e.g., style match) evaluation.\n",
    "\n",
    "**Discussion Questions**:\n",
    "- Why do team members rate artworks differently?\n",
    "- How do images make your app stand out vs. EduResource?\n",
    "- What ethical concerns (e.g., cultural bias, fairness) did you identify in your system? How might these impact users in a real-world scenario?\n",
    "- How could your proposed improvement address these concerns? What challenges might arise when implementing it?\n",
    "\n",
    "**Competition**: Final presentaton and Submit presentation via Teams for up to 50 points (instructor/AI + peer vote). Include your proposed improvement in the pitch."
   ]
  },
  {
   "cell_type": "code",
   "execution_count": null,
   "metadata": {
    "id": "8bN-ZPC1txc5"
   },
   "outputs": [],
   "source": []
  }
 ],
 "metadata": {
  "colab": {
   "provenance": []
  },
  "kernelspec": {
   "display_name": "Python 3",
   "name": "python3"
  },
  "language_info": {
   "name": "python"
  }
 },
 "nbformat": 4,
 "nbformat_minor": 0
}
