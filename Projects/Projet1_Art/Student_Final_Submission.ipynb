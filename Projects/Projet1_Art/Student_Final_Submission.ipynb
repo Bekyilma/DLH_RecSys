{
 "cells": [
  {
   "cell_type": "markdown",
   "metadata": {
    "id": "final_submission"
   },
   "source": [
    "# Final Pipeline Submission for ArtVibe Gallery Recommender\n",
    "\n",
    "**Instructions**: Summarize your work over the week into a detailed pipeline for your recommendation system, focusing on your two personas. This submission will be evaluated based on how well your system meets the needs of your personas and aligns with the principles of recommendation system design. Provide clear, concise answers for each section below. Your submission should be 500–700 words.\n",
    "\n",
    "## 1. Persona Descriptions\n",
    "Provide detailed profiles for your two personas, including:\n",
    "- Name, age, and background.\n",
    "- Art preferences (e.g., specific styles like \"Oil Painting,\" moods like \"calm,\" cultural preferences like \"non-Western art\").\n",
    "- Needs and goals (e.g., seeking inspiration, relaxation).\n",
    "- Example: \"Persona 1: Luna, 28, a graphic designer who loves abstract art with an energetic mood to inspire her creative projects. She needs vibrant, dynamic artworks to spark ideas.\"\n",
    "\n",
    "**Persona 1**:  \n",
    "[Your description here]\n",
    "\n",
    "**Persona 2**:  \n",
    "[Your description here]\n",
    "\n",
    "## 2. Preferences\n",
    "Specify the style and mood preferences for each persona, as identified during testing:\n",
    "- Style (e.g., \"Oil Painting,\" \"Watercolor\").\n",
    "- Mood (e.g., \"calm,\" \"energetic\").\n",
    "- Example: \"Luna prefers Oil Paintings with an energetic mood to match her creative energy.\"\n",
    "\n",
    "**Persona 1 Preferences**:  \n",
    "[Style and mood preferences here]\n",
    "\n",
    "**Persona 2 Preferences**:  \n",
    "[Style and mood preferences here]\n",
    "\n",
    "## 3. Recommendation Logic\n",
    "Describe the recommendation logic you designed, including:\n",
    "- The style and mood weights (e.g., 70% style, 30% mood).\n",
    "- Justification for these weights: How do they meet the personas’ preferences?\n",
    "- Example: \"We used 70% style (Oil Painting) and 30% mood (energetic) for Luna because her preference for abstract art is more style-driven, ensuring vibrant artworks are prioritized.\"\n",
    "\n",
    "**Recommendation Logic for Persona 1**:  \n",
    "[Weights and justification here]\n",
    "\n",
    "**Recommendation Logic for Persona 2**:  \n",
    "[Weights and justification here]\n",
    "\n",
    "## 4. Explanations for Recommendations\n",
    "Provide the refined explanations you generated for three recommendations (at least one per persona). Include:\n",
    "- The artwork title, style/mood combination used, and the explanation.\n",
    "- How the explanation addresses the persona’s preferences and any biases (e.g., cultural bias).\n",
    "- Example: \"For Luna: 'The Starry Night' (Oil Painting, energetic). Explanation: 'The Starry Night' by Vincent van Gogh aligns with your energetic preference through its vibrant swirls and bold colors, recommended with a 70% style weight. We ensured the explanation highlights non-Western alternatives to address cultural bias.'\"\n",
    "\n",
    "**Recommendation 1 (Persona 1)**:  \n",
    "[Artwork title, style/mood, explanation, and bias addressed]\n",
    "\n",
    "**Recommendation 2 (Persona 1 or 2)**:  \n",
    "[Artwork title, style/mood, explanation, and bias addressed]\n",
    "\n",
    "**Recommendation 3 (Persona 2)**:  \n",
    "[Artwork title, style/mood, explanation, and bias addressed]\n",
    "\n",
    "## 5. Ratings for Personas\n",
    "Provide the ratings you assigned to three recommendations (at least one per persona), with justifications:\n",
    "- Artwork title, rating (1-5 stars), and justification for the rating.\n",
    "- Example: \"For Luna: 'The Starry Night' – 5 stars. Justification: The vibrant colors and energetic mood perfectly match Luna’s need for creative inspiration.\"\n",
    "\n",
    "**Rating 1 (Persona 1)**:  \n",
    "[Artwork title, rating, justification]\n",
    "\n",
    "**Rating 2 (Persona 1 or 2)**:  \n",
    "[Artwork title, rating, justification]\n",
    "\n",
    "**Rating 3 (Persona 2)**:  \n",
    "[Artwork title, rating, justification]\n",
    "\n",
    "**Submission Guidelines**:\n",
    "- Ensure your submission is 500–700 words.\n",
    "- Save your completed submission as a text file or Markdown file.\n",
    "- Submit via Microsoft Teams by the deadline provided by your instructor."
   ]
  },
  {
   "cell_type": "markdown",
   "metadata": {},
   "source": [
    "<a href=\"https://colab.research.google.com/github/Bekyilma/DLH_RecSys/blob/main/Projects/Projet1_Art/Student_Final_Submission.ipynb\" target=\"_parent\"><img src=\"https://colab.research.google.com/assets/colab-badge.svg\" alt=\"Open In Colab\"/></a>"
   ]
  },
  {
   "cell_type": "markdown",
   "metadata": {},
   "source": []
  }
 ],
 "metadata": {
  "colab": {
   "provenance": []
  },
  "kernelspec": {
   "display_name": "Python 3",
   "name": "python3"
  },
  "language_info": {
   "name": "python"
  }
 },
 "nbformat": 4,
 "nbformat_minor": 0
}
